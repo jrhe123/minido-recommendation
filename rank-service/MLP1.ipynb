{
 "cells": [
  {
   "cell_type": "markdown",
   "metadata": {},
   "source": [
    "## Define Model\n",
    " - x1: item categorical feature\n",
    "- x2: user categorical feature\n",
    "- x3: item numeric features\n",
    "- x4: user numeric features"
   ]
  },
  {
   "cell_type": "code",
   "execution_count": 1,
   "metadata": {},
   "outputs": [],
   "source": [
    "import tensorflow as tf\n",
    "import tensorflow.keras as keras"
   ]
  },
  {
   "cell_type": "code",
   "execution_count": 2,
   "metadata": {},
   "outputs": [],
   "source": [
    "from tensorboard.plugins.hparams import api as hp"
   ]
  },
  {
   "cell_type": "code",
   "execution_count": 3,
   "metadata": {},
   "outputs": [],
   "source": [
    "# HP_LAYERS = hp.HParam(\"layers\", hp.IntInterval(2, 3))\n",
    "# HP_LAYER_SIZE = hp.HParam(\"layer_size\", hp.Discrete([64, 128, 256]))\n",
    "# HP_LEARN_RATE = hp.HParam(\"learn_rate\", hp.Discrete([0.001, 0.003, 0.01]))\n",
    "\n",
    "HP_LAYERS = hp.HParam(\"layers\", hp.IntInterval(2, 3))\n",
    "HP_LAYER_SIZE = hp.HParam(\"layer_size\", hp.Discrete([64, 128, 256]))\n",
    "HP_LEARN_RATE = hp.HParam(\"learn_rate\", hp.Discrete([0.001, 0.003, 0.01]))\n",
    "\n",
    "HPARAMS = [HP_LAYERS, HP_LAYER_SIZE, HP_LEARN_RATE]\n",
    "\n",
    "METRICS = [\n",
    "    hp.Metric(\n",
    "        \"batch_loss\",\n",
    "        group=\"train\",\n",
    "        display_name=\"loss (train)\",\n",
    "    ),\n",
    "    hp.Metric(\n",
    "        \"loss\",\n",
    "        group=\"validation\",\n",
    "        display_name=\"loss (val)\",\n",
    "    ),\n",
    "]"
   ]
  },
  {
   "cell_type": "code",
   "execution_count": 4,
   "metadata": {},
   "outputs": [],
   "source": [
    "def build_model(x1_shape, x2_shape, x3_shape, x4_shape, hparams):\n",
    "    x1_input = keras.layers.Input(shape=(x1_shape,))\n",
    "    x2_input = keras.layers.Input(shape=(x2_shape,))\n",
    "    x3_input = keras.layers.Input(shape=(x3_shape,))\n",
    "    x4_input = keras.layers.Input(shape=(x4_shape,))\n",
    "\n",
    "    # compact embedding for x1 and x2\n",
    "    compact_x1 = keras.layers.Dense(10)(x1_input) # 降维到10维\n",
    "    compact_x2 = keras.layers.Dense(10)(x2_input) # 降维到10维\n",
    "\n",
    "    # concat all\n",
    "    merge = keras.layers.concatenate([compact_x1, compact_x2, x3_input, x4_input])\n",
    "\n",
    "    # hidden layers (n-th)\n",
    "    h_input = merge\n",
    "    for _ in range(hparams[HP_LAYERS]):\n",
    "        h = keras.layers.Dense(hparams[HP_LAYER_SIZE], activation=\"relu\")(h_input)\n",
    "        h_input = h\n",
    "\n",
    "    # output (yes / no => sigmoid)\n",
    "    output = keras.layers.Dense(1, activation=\"sigmoid\")(h_input)\n",
    "    model = keras.models.Model(\n",
    "        inputs=[x1_input, x2_input, x3_input, x4_input], outputs=output\n",
    "    )\n",
    "\n",
    "    # optimizer\n",
    "    opt = keras.optimizers.Adam(\n",
    "        learning_rate=hparams[HP_LEARN_RATE]\n",
    "    )\n",
    "\n",
    "    # compile\n",
    "    model.compile(\n",
    "        loss=\"binary_crossentropy\",\n",
    "        optimizer=opt,\n",
    "        metrics=[\"accuracy\"]\n",
    "    )\n",
    "\n",
    "    return model"
   ]
  },
  {
   "cell_type": "code",
   "execution_count": 5,
   "metadata": {},
   "outputs": [
    {
     "ename": "TypeError",
     "evalue": "build_model() missing 1 required positional argument: 'hparams'",
     "output_type": "error",
     "traceback": [
      "\u001b[0;31m---------------------------------------------------------------------------\u001b[0m",
      "\u001b[0;31mTypeError\u001b[0m                                 Traceback (most recent call last)",
      "Cell \u001b[0;32mIn[5], line 1\u001b[0m\n\u001b[0;32m----> 1\u001b[0m model \u001b[38;5;241m=\u001b[39m \u001b[43mbuild_model\u001b[49m\u001b[43m(\u001b[49m\u001b[38;5;241;43m43\u001b[39;49m\u001b[43m,\u001b[49m\u001b[38;5;241;43m43\u001b[39;49m\u001b[43m,\u001b[49m\u001b[38;5;241;43m4\u001b[39;49m\u001b[43m,\u001b[49m\u001b[38;5;241;43m4\u001b[39;49m\u001b[43m)\u001b[49m\n",
      "\u001b[0;31mTypeError\u001b[0m: build_model() missing 1 required positional argument: 'hparams'"
     ]
    }
   ],
   "source": [
    "model = build_model(\n",
    "    43,\n",
    "    43,\n",
    "    4,\n",
    "    4,\n",
    "    {HP_LAYERS: HP_LAYERS.domain.min_value, HP_LAYER_SIZE: 64, HP_LEARN_RATE: 0.001},\n",
    ")"
   ]
  },
  {
   "cell_type": "code",
   "execution_count": null,
   "metadata": {},
   "outputs": [],
   "source": [
    "keras.utils.plot_model(model, show_shapes=True, show_layer_names=True)"
   ]
  },
  {
   "cell_type": "markdown",
   "metadata": {},
   "source": [
    "## Feature extraction\n"
   ]
  },
  {
   "cell_type": "code",
   "execution_count": 6,
   "metadata": {},
   "outputs": [],
   "source": [
    "import numpy as np\n",
    "import pandas as pd"
   ]
  },
  {
   "cell_type": "code",
   "execution_count": 7,
   "metadata": {},
   "outputs": [],
   "source": [
    "def get_item_numeric_features(df):\n",
    "    numeric_feature_names = [\n",
    "        \"all_rating_min_max\",\n",
    "        \"members_min_max\",\n",
    "        \"aired_from_min_max\",\n",
    "        \"aired_to_min_max\",\n",
    "    ]\n",
    "\n",
    "    num_df = df[numeric_feature_names]\n",
    "    return num_df.to_numpy()\n",
    "\n",
    "\n",
    "def get_user_numeric_features(df):\n",
    "    numeric_feature_names = [\n",
    "        \"user_rating_ave_min_max\",\n",
    "        \"user_rating_std_min_max\",\n",
    "        \"user_aired_from_ave_min_max\",\n",
    "        \"user_aired_to_ave_min_max\",\n",
    "    ]\n",
    "\n",
    "    num_df = df[numeric_feature_names]\n",
    "    return num_df.to_numpy()\n",
    "\n",
    "\n",
    "def get_multihot_feature(df, feat_name):\n",
    "    feat_df = df[[feat_name]]\n",
    "    feat_vecs = feat_df.to_numpy()\n",
    "    feat_vec = np.apply_along_axis(lambda v: v[0], 1, feat_vecs)\n",
    "    return feat_vec\n",
    "\n",
    "\n",
    "def get_label(df):\n",
    "    label_df = df[[\"label\"]]\n",
    "    return label_df.to_numpy()\n",
    "\n",
    "\n",
    "def get_all_features(df):\n",
    "    return (\n",
    "        get_multihot_feature(df, \"genres_multihot\"),\n",
    "        get_multihot_feature(df, \"user_liked_genres_multihot\"),\n",
    "        get_item_numeric_features(df),\n",
    "        get_user_numeric_features(df),\n",
    "    )"
   ]
  },
  {
   "cell_type": "code",
   "execution_count": 8,
   "metadata": {},
   "outputs": [],
   "source": [
    "import os"
   ]
  },
  {
   "cell_type": "code",
   "execution_count": 10,
   "metadata": {},
   "outputs": [],
   "source": [
    "def data_files():\n",
    "    filenames = []\n",
    "    for root, dirs, files in os.walk(\"../anime-data/dnn_feat_eng\"):\n",
    "        for file in files:\n",
    "            if file.endswith(\".parquet\"):\n",
    "                filenames.append(os.path.join(root, file))\n",
    "\n",
    "    return filenames"
   ]
  },
  {
   "cell_type": "code",
   "execution_count": 11,
   "metadata": {},
   "outputs": [
    {
     "data": {
      "text/plain": [
       "['../anime-data/dnn_feat_eng/part-00008-d84f2fb3-ad0e-403f-8f8c-278b9701b758-c000.snappy.parquet',\n",
       " '../anime-data/dnn_feat_eng/part-00003-d84f2fb3-ad0e-403f-8f8c-278b9701b758-c000.snappy.parquet',\n",
       " '../anime-data/dnn_feat_eng/part-00004-d84f2fb3-ad0e-403f-8f8c-278b9701b758-c000.snappy.parquet',\n",
       " '../anime-data/dnn_feat_eng/part-00012-d84f2fb3-ad0e-403f-8f8c-278b9701b758-c000.snappy.parquet',\n",
       " '../anime-data/dnn_feat_eng/part-00005-d84f2fb3-ad0e-403f-8f8c-278b9701b758-c000.snappy.parquet',\n",
       " '../anime-data/dnn_feat_eng/part-00009-d84f2fb3-ad0e-403f-8f8c-278b9701b758-c000.snappy.parquet',\n",
       " '../anime-data/dnn_feat_eng/part-00002-d84f2fb3-ad0e-403f-8f8c-278b9701b758-c000.snappy.parquet',\n",
       " '../anime-data/dnn_feat_eng/part-00010-d84f2fb3-ad0e-403f-8f8c-278b9701b758-c000.snappy.parquet',\n",
       " '../anime-data/dnn_feat_eng/part-00007-d84f2fb3-ad0e-403f-8f8c-278b9701b758-c000.snappy.parquet',\n",
       " '../anime-data/dnn_feat_eng/part-00000-d84f2fb3-ad0e-403f-8f8c-278b9701b758-c000.snappy.parquet',\n",
       " '../anime-data/dnn_feat_eng/part-00001-d84f2fb3-ad0e-403f-8f8c-278b9701b758-c000.snappy.parquet',\n",
       " '../anime-data/dnn_feat_eng/part-00011-d84f2fb3-ad0e-403f-8f8c-278b9701b758-c000.snappy.parquet',\n",
       " '../anime-data/dnn_feat_eng/part-00006-d84f2fb3-ad0e-403f-8f8c-278b9701b758-c000.snappy.parquet']"
      ]
     },
     "execution_count": 11,
     "metadata": {},
     "output_type": "execute_result"
    }
   ],
   "source": [
    "filenames = data_files()\n",
    "filenames"
   ]
  },
  {
   "cell_type": "markdown",
   "metadata": {},
   "source": [
    "## Load Data and Train\n"
   ]
  },
  {
   "cell_type": "code",
   "execution_count": 12,
   "metadata": {},
   "outputs": [],
   "source": [
    "test_x1s = []\n",
    "test_x2s = []\n",
    "test_x3s = []\n",
    "test_x4s = []\n",
    "test_ys = []"
   ]
  },
  {
   "cell_type": "code",
   "execution_count": 13,
   "metadata": {},
   "outputs": [],
   "source": [
    "def run_model(model_id, hparams):\n",
    "    # build model\n",
    "    model = build_model(43, 43, 4, 4, hparams)\n",
    "    print(f\"model id: {model_id}:\")\n",
    "    print({h.name: hparams[h] for h in hparams})\n",
    "\n",
    "    # config hparam logs\n",
    "    log_filename = f\"{model_id}\"\n",
    "    for h in hparams:\n",
    "        log_filename += f\"_{h.name}-{hparams[h]}\"\n",
    "\n",
    "    log_dir = os.path.join(\"hparams\", log_filename)\n",
    "    tensorboard_callback = tf.keras.callbacks.TensorBoard(\n",
    "        log_dir=log_dir, update_freq=10, profile_batch=0\n",
    "    )\n",
    "    hparams_callback = hp.KerasCallback(log_dir, hparams)\n",
    "\n",
    "    # train model\n",
    "    for filename in filenames[:1]:\n",
    "        df = pd.read_parquet(filename)\n",
    "\n",
    "        # shuffle and split train and test\n",
    "        train_df = df\n",
    "        #         train_df = df.sample(frac=0.8, random_state=666)\n",
    "        #         test_df = df.drop(train_df.index)\n",
    "\n",
    "        # get features\n",
    "        train_x1, train_x2, train_x3, train_x4 = get_all_features(train_df)\n",
    "        #         val_x1, val_x2, val_x3, val_x4 = get_all_features(test_df)\n",
    "\n",
    "        # get label\n",
    "        train_y = get_label(train_df)\n",
    "        #         val_y = get_label(test_df)\n",
    "\n",
    "        print(\"training on new dataset\")\n",
    "\n",
    "        model.fit(\n",
    "            [train_x1, train_x2, train_x3, train_x4],\n",
    "            train_y,\n",
    "            validation_split=0.2,\n",
    "            batch_size=16,\n",
    "            epochs=4, # reduce from 10 to 4, b/c of overfitting, the loss is increasing after #4 epoch\n",
    "            callbacks=[tensorboard_callback, hparams_callback],\n",
    "        )"
   ]
  },
  {
   "cell_type": "code",
   "execution_count": 14,
   "metadata": {},
   "outputs": [],
   "source": [
    "def test_params():\n",
    "    with tf.summary.create_file_writer(\"hparams\").as_default():\n",
    "        hp.hparams_config(hparams=HPARAMS, metrics=METRICS)\n",
    "\n",
    "    model_id = 0\n",
    "    for layers in range(HP_LAYERS.domain.min_value, HP_LAYERS.domain.max_value + 1):\n",
    "        for size in HP_LAYER_SIZE.domain.values:\n",
    "            for rate in HP_LEARN_RATE.domain.values:\n",
    "                hparams = {HP_LAYERS: layers, HP_LAYER_SIZE: size, HP_LEARN_RATE: rate}\n",
    "\n",
    "                run_model(model_id, hparams)\n",
    "                model_id += 1"
   ]
  },
  {
   "cell_type": "code",
   "execution_count": 15,
   "metadata": {},
   "outputs": [
    {
     "name": "stdout",
     "output_type": "stream",
     "text": [
      "model id: 0:\n",
      "{'layers': 2, 'layer_size': 64, 'learn_rate': 0.001}\n",
      "training on new dataset\n",
      "Epoch 1/4\n",
      "\u001b[1m26012/26012\u001b[0m \u001b[32m━━━━━━━━━━━━━━━━━━━━\u001b[0m\u001b[37m\u001b[0m \u001b[1m20s\u001b[0m 736us/step - accuracy: 0.7157 - loss: 0.5517 - val_accuracy: 0.7454 - val_loss: 0.5181\n",
      "Epoch 2/4\n",
      "\u001b[1m26012/26012\u001b[0m \u001b[32m━━━━━━━━━━━━━━━━━━━━\u001b[0m\u001b[37m\u001b[0m \u001b[1m18s\u001b[0m 710us/step - accuracy: 0.7423 - loss: 0.5183 - val_accuracy: 0.7429 - val_loss: 0.5208\n",
      "Epoch 3/4\n",
      "\u001b[1m26012/26012\u001b[0m \u001b[32m━━━━━━━━━━━━━━━━━━━━\u001b[0m\u001b[37m\u001b[0m \u001b[1m19s\u001b[0m 738us/step - accuracy: 0.7439 - loss: 0.5154 - val_accuracy: 0.7490 - val_loss: 0.5108\n",
      "Epoch 4/4\n",
      "\u001b[1m26012/26012\u001b[0m \u001b[32m━━━━━━━━━━━━━━━━━━━━\u001b[0m\u001b[37m\u001b[0m \u001b[1m18s\u001b[0m 709us/step - accuracy: 0.7452 - loss: 0.5141 - val_accuracy: 0.7428 - val_loss: 0.5169\n",
      "model id: 1:\n",
      "{'layers': 2, 'layer_size': 64, 'learn_rate': 0.003}\n",
      "training on new dataset\n",
      "Epoch 1/4\n",
      "\u001b[1m26012/26012\u001b[0m \u001b[32m━━━━━━━━━━━━━━━━━━━━\u001b[0m\u001b[37m\u001b[0m \u001b[1m20s\u001b[0m 744us/step - accuracy: 0.7178 - loss: 0.5500 - val_accuracy: 0.7428 - val_loss: 0.5186\n",
      "Epoch 2/4\n",
      "\u001b[1m26012/26012\u001b[0m \u001b[32m━━━━━━━━━━━━━━━━━━━━\u001b[0m\u001b[37m\u001b[0m \u001b[1m19s\u001b[0m 736us/step - accuracy: 0.7399 - loss: 0.5227 - val_accuracy: 0.7365 - val_loss: 0.5297\n",
      "Epoch 3/4\n",
      "\u001b[1m26012/26012\u001b[0m \u001b[32m━━━━━━━━━━━━━━━━━━━━\u001b[0m\u001b[37m\u001b[0m \u001b[1m19s\u001b[0m 731us/step - accuracy: 0.7432 - loss: 0.5181 - val_accuracy: 0.7478 - val_loss: 0.5127\n",
      "Epoch 4/4\n",
      "\u001b[1m26012/26012\u001b[0m \u001b[32m━━━━━━━━━━━━━━━━━━━━\u001b[0m\u001b[37m\u001b[0m \u001b[1m19s\u001b[0m 742us/step - accuracy: 0.7441 - loss: 0.5167 - val_accuracy: 0.7429 - val_loss: 0.5202\n",
      "model id: 2:\n",
      "{'layers': 2, 'layer_size': 64, 'learn_rate': 0.01}\n",
      "training on new dataset\n",
      "Epoch 1/4\n",
      "\u001b[1m26012/26012\u001b[0m \u001b[32m━━━━━━━━━━━━━━━━━━━━\u001b[0m\u001b[37m\u001b[0m \u001b[1m19s\u001b[0m 725us/step - accuracy: 0.7126 - loss: 0.5575 - val_accuracy: 0.7099 - val_loss: 0.5719\n",
      "Epoch 2/4\n",
      "\u001b[1m26012/26012\u001b[0m \u001b[32m━━━━━━━━━━━━━━━━━━━━\u001b[0m\u001b[37m\u001b[0m \u001b[1m19s\u001b[0m 746us/step - accuracy: 0.7372 - loss: 0.5284 - val_accuracy: 0.7413 - val_loss: 0.5252\n",
      "Epoch 3/4\n",
      "\u001b[1m26012/26012\u001b[0m \u001b[32m━━━━━━━━━━━━━━━━━━━━\u001b[0m\u001b[37m\u001b[0m \u001b[1m19s\u001b[0m 725us/step - accuracy: 0.7386 - loss: 0.5259 - val_accuracy: 0.7421 - val_loss: 0.5196\n",
      "Epoch 4/4\n",
      "\u001b[1m26012/26012\u001b[0m \u001b[32m━━━━━━━━━━━━━━━━━━━━\u001b[0m\u001b[37m\u001b[0m \u001b[1m19s\u001b[0m 739us/step - accuracy: 0.7402 - loss: 0.5228 - val_accuracy: 0.7429 - val_loss: 0.5183\n",
      "model id: 3:\n",
      "{'layers': 2, 'layer_size': 128, 'learn_rate': 0.001}\n",
      "training on new dataset\n",
      "Epoch 1/4\n",
      "\u001b[1m26012/26012\u001b[0m \u001b[32m━━━━━━━━━━━━━━━━━━━━\u001b[0m\u001b[37m\u001b[0m \u001b[1m22s\u001b[0m 819us/step - accuracy: 0.7191 - loss: 0.5495 - val_accuracy: 0.7444 - val_loss: 0.5238\n",
      "Epoch 2/4\n",
      "\u001b[1m26012/26012\u001b[0m \u001b[32m━━━━━━━━━━━━━━━━━━━━\u001b[0m\u001b[37m\u001b[0m \u001b[1m21s\u001b[0m 806us/step - accuracy: 0.7423 - loss: 0.5191 - val_accuracy: 0.7428 - val_loss: 0.5165\n",
      "Epoch 3/4\n",
      "\u001b[1m26012/26012\u001b[0m \u001b[32m━━━━━━━━━━━━━━━━━━━━\u001b[0m\u001b[37m\u001b[0m \u001b[1m22s\u001b[0m 837us/step - accuracy: 0.7434 - loss: 0.5160 - val_accuracy: 0.7347 - val_loss: 0.5310\n",
      "Epoch 4/4\n",
      "\u001b[1m26012/26012\u001b[0m \u001b[32m━━━━━━━━━━━━━━━━━━━━\u001b[0m\u001b[37m\u001b[0m \u001b[1m21s\u001b[0m 812us/step - accuracy: 0.7447 - loss: 0.5150 - val_accuracy: 0.7473 - val_loss: 0.5117\n",
      "model id: 4:\n",
      "{'layers': 2, 'layer_size': 128, 'learn_rate': 0.003}\n",
      "training on new dataset\n",
      "Epoch 1/4\n",
      "\u001b[1m26012/26012\u001b[0m \u001b[32m━━━━━━━━━━━━━━━━━━━━\u001b[0m\u001b[37m\u001b[0m \u001b[1m22s\u001b[0m 805us/step - accuracy: 0.7175 - loss: 0.5515 - val_accuracy: 0.7391 - val_loss: 0.5252\n",
      "Epoch 2/4\n",
      "\u001b[1m26012/26012\u001b[0m \u001b[32m━━━━━━━━━━━━━━━━━━━━\u001b[0m\u001b[37m\u001b[0m \u001b[1m21s\u001b[0m 803us/step - accuracy: 0.7406 - loss: 0.5224 - val_accuracy: 0.7457 - val_loss: 0.5167\n",
      "Epoch 3/4\n",
      "\u001b[1m26012/26012\u001b[0m \u001b[32m━━━━━━━━━━━━━━━━━━━━\u001b[0m\u001b[37m\u001b[0m \u001b[1m21s\u001b[0m 796us/step - accuracy: 0.7422 - loss: 0.5198 - val_accuracy: 0.7472 - val_loss: 0.5135\n",
      "Epoch 4/4\n",
      "\u001b[1m26012/26012\u001b[0m \u001b[32m━━━━━━━━━━━━━━━━━━━━\u001b[0m\u001b[37m\u001b[0m \u001b[1m21s\u001b[0m 805us/step - accuracy: 0.7434 - loss: 0.5175 - val_accuracy: 0.7399 - val_loss: 0.5201\n",
      "model id: 5:\n",
      "{'layers': 2, 'layer_size': 128, 'learn_rate': 0.01}\n",
      "training on new dataset\n",
      "Epoch 1/4\n",
      "\u001b[1m26012/26012\u001b[0m \u001b[32m━━━━━━━━━━━━━━━━━━━━\u001b[0m\u001b[37m\u001b[0m \u001b[1m22s\u001b[0m 809us/step - accuracy: 0.7095 - loss: 0.5620 - val_accuracy: 0.7421 - val_loss: 0.5239\n",
      "Epoch 2/4\n",
      "\u001b[1m26012/26012\u001b[0m \u001b[32m━━━━━━━━━━━━━━━━━━━━\u001b[0m\u001b[37m\u001b[0m \u001b[1m21s\u001b[0m 806us/step - accuracy: 0.7371 - loss: 0.5281 - val_accuracy: 0.7394 - val_loss: 0.5217\n",
      "Epoch 3/4\n",
      "\u001b[1m26012/26012\u001b[0m \u001b[32m━━━━━━━━━━━━━━━━━━━━\u001b[0m\u001b[37m\u001b[0m \u001b[1m21s\u001b[0m 792us/step - accuracy: 0.7400 - loss: 0.5249 - val_accuracy: 0.7411 - val_loss: 0.5256\n",
      "Epoch 4/4\n",
      "\u001b[1m26012/26012\u001b[0m \u001b[32m━━━━━━━━━━━━━━━━━━━━\u001b[0m\u001b[37m\u001b[0m \u001b[1m21s\u001b[0m 817us/step - accuracy: 0.7394 - loss: 0.5235 - val_accuracy: 0.7403 - val_loss: 0.5244\n",
      "model id: 6:\n",
      "{'layers': 2, 'layer_size': 256, 'learn_rate': 0.001}\n",
      "training on new dataset\n",
      "Epoch 1/4\n",
      "\u001b[1m26012/26012\u001b[0m \u001b[32m━━━━━━━━━━━━━━━━━━━━\u001b[0m\u001b[37m\u001b[0m \u001b[1m36s\u001b[0m 1ms/step - accuracy: 0.7204 - loss: 0.5478 - val_accuracy: 0.7417 - val_loss: 0.5231\n",
      "Epoch 2/4\n",
      "\u001b[1m26012/26012\u001b[0m \u001b[32m━━━━━━━━━━━━━━━━━━━━\u001b[0m\u001b[37m\u001b[0m \u001b[1m35s\u001b[0m 1ms/step - accuracy: 0.7425 - loss: 0.5195 - val_accuracy: 0.7480 - val_loss: 0.5125\n",
      "Epoch 3/4\n",
      "\u001b[1m26012/26012\u001b[0m \u001b[32m━━━━━━━━━━━━━━━━━━━━\u001b[0m\u001b[37m\u001b[0m \u001b[1m35s\u001b[0m 1ms/step - accuracy: 0.7441 - loss: 0.5163 - val_accuracy: 0.7426 - val_loss: 0.5215\n",
      "Epoch 4/4\n",
      "\u001b[1m26012/26012\u001b[0m \u001b[32m━━━━━━━━━━━━━━━━━━━━\u001b[0m\u001b[37m\u001b[0m \u001b[1m35s\u001b[0m 1ms/step - accuracy: 0.7457 - loss: 0.5137 - val_accuracy: 0.7489 - val_loss: 0.5112\n",
      "model id: 7:\n",
      "{'layers': 2, 'layer_size': 256, 'learn_rate': 0.003}\n",
      "training on new dataset\n",
      "Epoch 1/4\n",
      "\u001b[1m26012/26012\u001b[0m \u001b[32m━━━━━━━━━━━━━━━━━━━━\u001b[0m\u001b[37m\u001b[0m \u001b[1m36s\u001b[0m 1ms/step - accuracy: 0.7154 - loss: 0.5528 - val_accuracy: 0.7440 - val_loss: 0.5220\n",
      "Epoch 2/4\n",
      "\u001b[1m26012/26012\u001b[0m \u001b[32m━━━━━━━━━━━━━━━━━━━━\u001b[0m\u001b[37m\u001b[0m \u001b[1m36s\u001b[0m 1ms/step - accuracy: 0.7402 - loss: 0.5227 - val_accuracy: 0.7459 - val_loss: 0.5141\n",
      "Epoch 3/4\n",
      "\u001b[1m26012/26012\u001b[0m \u001b[32m━━━━━━━━━━━━━━━━━━━━\u001b[0m\u001b[37m\u001b[0m \u001b[1m37s\u001b[0m 1ms/step - accuracy: 0.7419 - loss: 0.5198 - val_accuracy: 0.7458 - val_loss: 0.5152\n",
      "Epoch 4/4\n",
      "\u001b[1m26012/26012\u001b[0m \u001b[32m━━━━━━━━━━━━━━━━━━━━\u001b[0m\u001b[37m\u001b[0m \u001b[1m37s\u001b[0m 1ms/step - accuracy: 0.7426 - loss: 0.5193 - val_accuracy: 0.7436 - val_loss: 0.5169\n",
      "model id: 8:\n",
      "{'layers': 2, 'layer_size': 256, 'learn_rate': 0.01}\n",
      "training on new dataset\n",
      "Epoch 1/4\n",
      "\u001b[1m26012/26012\u001b[0m \u001b[32m━━━━━━━━━━━━━━━━━━━━\u001b[0m\u001b[37m\u001b[0m \u001b[1m34s\u001b[0m 1ms/step - accuracy: 0.7105 - loss: 0.5617 - val_accuracy: 0.7257 - val_loss: 0.5449\n",
      "Epoch 2/4\n",
      "\u001b[1m26012/26012\u001b[0m \u001b[32m━━━━━━━━━━━━━━━━━━━━\u001b[0m\u001b[37m\u001b[0m \u001b[1m33s\u001b[0m 1ms/step - accuracy: 0.7364 - loss: 0.5286 - val_accuracy: 0.7412 - val_loss: 0.5253\n",
      "Epoch 3/4\n",
      "\u001b[1m26012/26012\u001b[0m \u001b[32m━━━━━━━━━━━━━━━━━━━━\u001b[0m\u001b[37m\u001b[0m \u001b[1m33s\u001b[0m 1ms/step - accuracy: 0.7380 - loss: 0.5262 - val_accuracy: 0.7345 - val_loss: 0.5327\n",
      "Epoch 4/4\n",
      "\u001b[1m26012/26012\u001b[0m \u001b[32m━━━━━━━━━━━━━━━━━━━━\u001b[0m\u001b[37m\u001b[0m \u001b[1m33s\u001b[0m 1ms/step - accuracy: 0.7399 - loss: 0.5247 - val_accuracy: 0.7393 - val_loss: 0.5256\n",
      "model id: 9:\n",
      "{'layers': 3, 'layer_size': 64, 'learn_rate': 0.001}\n",
      "training on new dataset\n",
      "Epoch 1/4\n",
      "\u001b[1m26012/26012\u001b[0m \u001b[32m━━━━━━━━━━━━━━━━━━━━\u001b[0m\u001b[37m\u001b[0m \u001b[1m21s\u001b[0m 770us/step - accuracy: 0.7177 - loss: 0.5513 - val_accuracy: 0.7288 - val_loss: 0.5356\n",
      "Epoch 2/4\n",
      "\u001b[1m26012/26012\u001b[0m \u001b[32m━━━━━━━━━━━━━━━━━━━━\u001b[0m\u001b[37m\u001b[0m \u001b[1m20s\u001b[0m 765us/step - accuracy: 0.7417 - loss: 0.5201 - val_accuracy: 0.7399 - val_loss: 0.5211\n",
      "Epoch 3/4\n",
      "\u001b[1m26012/26012\u001b[0m \u001b[32m━━━━━━━━━━━━━━━━━━━━\u001b[0m\u001b[37m\u001b[0m \u001b[1m21s\u001b[0m 790us/step - accuracy: 0.7440 - loss: 0.5156 - val_accuracy: 0.7473 - val_loss: 0.5130\n",
      "Epoch 4/4\n",
      "\u001b[1m26012/26012\u001b[0m \u001b[32m━━━━━━━━━━━━━━━━━━━━\u001b[0m\u001b[37m\u001b[0m \u001b[1m20s\u001b[0m 785us/step - accuracy: 0.7456 - loss: 0.5142 - val_accuracy: 0.7472 - val_loss: 0.5149\n",
      "model id: 10:\n",
      "{'layers': 3, 'layer_size': 64, 'learn_rate': 0.003}\n",
      "training on new dataset\n",
      "Epoch 1/4\n",
      "\u001b[1m26012/26012\u001b[0m \u001b[32m━━━━━━━━━━━━━━━━━━━━\u001b[0m\u001b[37m\u001b[0m \u001b[1m22s\u001b[0m 813us/step - accuracy: 0.7184 - loss: 0.5510 - val_accuracy: 0.7436 - val_loss: 0.5193\n",
      "Epoch 2/4\n",
      "\u001b[1m26012/26012\u001b[0m \u001b[32m━━━━━━━━━━━━━━━━━━━━\u001b[0m\u001b[37m\u001b[0m \u001b[1m21s\u001b[0m 800us/step - accuracy: 0.7402 - loss: 0.5232 - val_accuracy: 0.7454 - val_loss: 0.5167\n",
      "Epoch 3/4\n",
      "\u001b[1m26012/26012\u001b[0m \u001b[32m━━━━━━━━━━━━━━━━━━━━\u001b[0m\u001b[37m\u001b[0m \u001b[1m21s\u001b[0m 794us/step - accuracy: 0.7414 - loss: 0.5209 - val_accuracy: 0.7446 - val_loss: 0.5182\n",
      "Epoch 4/4\n",
      "\u001b[1m26012/26012\u001b[0m \u001b[32m━━━━━━━━━━━━━━━━━━━━\u001b[0m\u001b[37m\u001b[0m \u001b[1m21s\u001b[0m 792us/step - accuracy: 0.7416 - loss: 0.5202 - val_accuracy: 0.7439 - val_loss: 0.5156\n",
      "model id: 11:\n",
      "{'layers': 3, 'layer_size': 64, 'learn_rate': 0.01}\n",
      "training on new dataset\n",
      "Epoch 1/4\n",
      "\u001b[1m26012/26012\u001b[0m \u001b[32m━━━━━━━━━━━━━━━━━━━━\u001b[0m\u001b[37m\u001b[0m \u001b[1m22s\u001b[0m 835us/step - accuracy: 0.7097 - loss: 0.5625 - val_accuracy: 0.7426 - val_loss: 0.5213\n",
      "Epoch 2/4\n",
      "\u001b[1m26012/26012\u001b[0m \u001b[32m━━━━━━━━━━━━━━━━━━━━\u001b[0m\u001b[37m\u001b[0m \u001b[1m21s\u001b[0m 809us/step - accuracy: 0.7362 - loss: 0.5301 - val_accuracy: 0.7317 - val_loss: 0.5366\n",
      "Epoch 3/4\n",
      "\u001b[1m26012/26012\u001b[0m \u001b[32m━━━━━━━━━━━━━━━━━━━━\u001b[0m\u001b[37m\u001b[0m \u001b[1m20s\u001b[0m 782us/step - accuracy: 0.7380 - loss: 0.5279 - val_accuracy: 0.7433 - val_loss: 0.5220\n",
      "Epoch 4/4\n",
      "\u001b[1m26012/26012\u001b[0m \u001b[32m━━━━━━━━━━━━━━━━━━━━\u001b[0m\u001b[37m\u001b[0m \u001b[1m20s\u001b[0m 785us/step - accuracy: 0.7396 - loss: 0.5253 - val_accuracy: 0.7449 - val_loss: 0.5182\n",
      "model id: 12:\n",
      "{'layers': 3, 'layer_size': 128, 'learn_rate': 0.001}\n",
      "training on new dataset\n",
      "Epoch 1/4\n",
      "\u001b[1m26012/26012\u001b[0m \u001b[32m━━━━━━━━━━━━━━━━━━━━\u001b[0m\u001b[37m\u001b[0m \u001b[1m25s\u001b[0m 943us/step - accuracy: 0.7197 - loss: 0.5488 - val_accuracy: 0.7384 - val_loss: 0.5271\n",
      "Epoch 2/4\n",
      "\u001b[1m26012/26012\u001b[0m \u001b[32m━━━━━━━━━━━━━━━━━━━━\u001b[0m\u001b[37m\u001b[0m \u001b[1m25s\u001b[0m 944us/step - accuracy: 0.7420 - loss: 0.5193 - val_accuracy: 0.7477 - val_loss: 0.5130\n",
      "Epoch 3/4\n",
      "\u001b[1m26012/26012\u001b[0m \u001b[32m━━━━━━━━━━━━━━━━━━━━\u001b[0m\u001b[37m\u001b[0m \u001b[1m24s\u001b[0m 913us/step - accuracy: 0.7436 - loss: 0.5155 - val_accuracy: 0.7464 - val_loss: 0.5140\n",
      "Epoch 4/4\n",
      "\u001b[1m26012/26012\u001b[0m \u001b[32m━━━━━━━━━━━━━━━━━━━━\u001b[0m\u001b[37m\u001b[0m \u001b[1m23s\u001b[0m 893us/step - accuracy: 0.7433 - loss: 0.5161 - val_accuracy: 0.7489 - val_loss: 0.5106\n",
      "model id: 13:\n",
      "{'layers': 3, 'layer_size': 128, 'learn_rate': 0.003}\n",
      "training on new dataset\n",
      "Epoch 1/4\n",
      "\u001b[1m26012/26012\u001b[0m \u001b[32m━━━━━━━━━━━━━━━━━━━━\u001b[0m\u001b[37m\u001b[0m \u001b[1m24s\u001b[0m 897us/step - accuracy: 0.7172 - loss: 0.5522 - val_accuracy: 0.7448 - val_loss: 0.5193\n",
      "Epoch 2/4\n",
      "\u001b[1m26012/26012\u001b[0m \u001b[32m━━━━━━━━━━━━━━━━━━━━\u001b[0m\u001b[37m\u001b[0m \u001b[1m23s\u001b[0m 899us/step - accuracy: 0.7397 - loss: 0.5236 - val_accuracy: 0.7273 - val_loss: 0.5396\n",
      "Epoch 3/4\n",
      "\u001b[1m26012/26012\u001b[0m \u001b[32m━━━━━━━━━━━━━━━━━━━━\u001b[0m\u001b[37m\u001b[0m \u001b[1m24s\u001b[0m 931us/step - accuracy: 0.7417 - loss: 0.5201 - val_accuracy: 0.7424 - val_loss: 0.5196\n",
      "Epoch 4/4\n",
      "\u001b[1m 7116/26012\u001b[0m \u001b[32m━━━━━\u001b[0m\u001b[37m━━━━━━━━━━━━━━━\u001b[0m \u001b[1m15s\u001b[0m 830us/step - accuracy: 0.7453 - loss: 0.5135"
     ]
    },
    {
     "ename": "KeyboardInterrupt",
     "evalue": "",
     "output_type": "error",
     "traceback": [
      "\u001b[0;31m---------------------------------------------------------------------------\u001b[0m",
      "\u001b[0;31mKeyboardInterrupt\u001b[0m                         Traceback (most recent call last)",
      "Cell \u001b[0;32mIn[15], line 1\u001b[0m\n\u001b[0;32m----> 1\u001b[0m \u001b[43mtest_params\u001b[49m\u001b[43m(\u001b[49m\u001b[43m)\u001b[49m\n",
      "Cell \u001b[0;32mIn[14], line 11\u001b[0m, in \u001b[0;36mtest_params\u001b[0;34m()\u001b[0m\n\u001b[1;32m      8\u001b[0m \u001b[38;5;28;01mfor\u001b[39;00m rate \u001b[38;5;129;01min\u001b[39;00m HP_LEARN_RATE\u001b[38;5;241m.\u001b[39mdomain\u001b[38;5;241m.\u001b[39mvalues:\n\u001b[1;32m      9\u001b[0m     hparams \u001b[38;5;241m=\u001b[39m {HP_LAYERS: layers, HP_LAYER_SIZE: size, HP_LEARN_RATE: rate}\n\u001b[0;32m---> 11\u001b[0m     \u001b[43mrun_model\u001b[49m\u001b[43m(\u001b[49m\u001b[43mmodel_id\u001b[49m\u001b[43m,\u001b[49m\u001b[43m \u001b[49m\u001b[43mhparams\u001b[49m\u001b[43m)\u001b[49m\n\u001b[1;32m     12\u001b[0m     model_id \u001b[38;5;241m+\u001b[39m\u001b[38;5;241m=\u001b[39m \u001b[38;5;241m1\u001b[39m\n",
      "Cell \u001b[0;32mIn[13], line 37\u001b[0m, in \u001b[0;36mrun_model\u001b[0;34m(model_id, hparams)\u001b[0m\n\u001b[1;32m     33\u001b[0m \u001b[38;5;66;03m#         val_y = get_label(test_df)\u001b[39;00m\n\u001b[1;32m     35\u001b[0m \u001b[38;5;28mprint\u001b[39m(\u001b[38;5;124m\"\u001b[39m\u001b[38;5;124mtraining on new dataset\u001b[39m\u001b[38;5;124m\"\u001b[39m)\n\u001b[0;32m---> 37\u001b[0m \u001b[43mmodel\u001b[49m\u001b[38;5;241;43m.\u001b[39;49m\u001b[43mfit\u001b[49m\u001b[43m(\u001b[49m\n\u001b[1;32m     38\u001b[0m \u001b[43m    \u001b[49m\u001b[43m[\u001b[49m\u001b[43mtrain_x1\u001b[49m\u001b[43m,\u001b[49m\u001b[43m \u001b[49m\u001b[43mtrain_x2\u001b[49m\u001b[43m,\u001b[49m\u001b[43m \u001b[49m\u001b[43mtrain_x3\u001b[49m\u001b[43m,\u001b[49m\u001b[43m \u001b[49m\u001b[43mtrain_x4\u001b[49m\u001b[43m]\u001b[49m\u001b[43m,\u001b[49m\n\u001b[1;32m     39\u001b[0m \u001b[43m    \u001b[49m\u001b[43mtrain_y\u001b[49m\u001b[43m,\u001b[49m\n\u001b[1;32m     40\u001b[0m \u001b[43m    \u001b[49m\u001b[43mvalidation_split\u001b[49m\u001b[38;5;241;43m=\u001b[39;49m\u001b[38;5;241;43m0.2\u001b[39;49m\u001b[43m,\u001b[49m\n\u001b[1;32m     41\u001b[0m \u001b[43m    \u001b[49m\u001b[43mbatch_size\u001b[49m\u001b[38;5;241;43m=\u001b[39;49m\u001b[38;5;241;43m16\u001b[39;49m\u001b[43m,\u001b[49m\n\u001b[1;32m     42\u001b[0m \u001b[43m    \u001b[49m\u001b[43mepochs\u001b[49m\u001b[38;5;241;43m=\u001b[39;49m\u001b[38;5;241;43m4\u001b[39;49m\u001b[43m,\u001b[49m\n\u001b[1;32m     43\u001b[0m \u001b[43m    \u001b[49m\u001b[43mcallbacks\u001b[49m\u001b[38;5;241;43m=\u001b[39;49m\u001b[43m[\u001b[49m\u001b[43mtensorboard_callback\u001b[49m\u001b[43m,\u001b[49m\u001b[43m \u001b[49m\u001b[43mhparams_callback\u001b[49m\u001b[43m]\u001b[49m\u001b[43m,\u001b[49m\n\u001b[1;32m     44\u001b[0m \u001b[43m\u001b[49m\u001b[43m)\u001b[49m\n",
      "File \u001b[0;32m~/.pyenv/versions/3.11.3/lib/python3.11/site-packages/keras/src/utils/traceback_utils.py:117\u001b[0m, in \u001b[0;36mfilter_traceback.<locals>.error_handler\u001b[0;34m(*args, **kwargs)\u001b[0m\n\u001b[1;32m    115\u001b[0m filtered_tb \u001b[38;5;241m=\u001b[39m \u001b[38;5;28;01mNone\u001b[39;00m\n\u001b[1;32m    116\u001b[0m \u001b[38;5;28;01mtry\u001b[39;00m:\n\u001b[0;32m--> 117\u001b[0m     \u001b[38;5;28;01mreturn\u001b[39;00m \u001b[43mfn\u001b[49m\u001b[43m(\u001b[49m\u001b[38;5;241;43m*\u001b[39;49m\u001b[43margs\u001b[49m\u001b[43m,\u001b[49m\u001b[43m \u001b[49m\u001b[38;5;241;43m*\u001b[39;49m\u001b[38;5;241;43m*\u001b[39;49m\u001b[43mkwargs\u001b[49m\u001b[43m)\u001b[49m\n\u001b[1;32m    118\u001b[0m \u001b[38;5;28;01mexcept\u001b[39;00m \u001b[38;5;167;01mException\u001b[39;00m \u001b[38;5;28;01mas\u001b[39;00m e:\n\u001b[1;32m    119\u001b[0m     filtered_tb \u001b[38;5;241m=\u001b[39m _process_traceback_frames(e\u001b[38;5;241m.\u001b[39m__traceback__)\n",
      "File \u001b[0;32m~/.pyenv/versions/3.11.3/lib/python3.11/site-packages/keras/src/backend/tensorflow/trainer.py:314\u001b[0m, in \u001b[0;36mTensorFlowTrainer.fit\u001b[0;34m(self, x, y, batch_size, epochs, verbose, callbacks, validation_split, validation_data, shuffle, class_weight, sample_weight, initial_epoch, steps_per_epoch, validation_steps, validation_batch_size, validation_freq)\u001b[0m\n\u001b[1;32m    312\u001b[0m \u001b[38;5;28;01mfor\u001b[39;00m step, iterator \u001b[38;5;129;01min\u001b[39;00m epoch_iterator\u001b[38;5;241m.\u001b[39menumerate_epoch():\n\u001b[1;32m    313\u001b[0m     callbacks\u001b[38;5;241m.\u001b[39mon_train_batch_begin(step)\n\u001b[0;32m--> 314\u001b[0m     logs \u001b[38;5;241m=\u001b[39m \u001b[38;5;28;43mself\u001b[39;49m\u001b[38;5;241;43m.\u001b[39;49m\u001b[43mtrain_function\u001b[49m\u001b[43m(\u001b[49m\u001b[43miterator\u001b[49m\u001b[43m)\u001b[49m\n\u001b[1;32m    315\u001b[0m     logs \u001b[38;5;241m=\u001b[39m \u001b[38;5;28mself\u001b[39m\u001b[38;5;241m.\u001b[39m_pythonify_logs(logs)\n\u001b[1;32m    316\u001b[0m     callbacks\u001b[38;5;241m.\u001b[39mon_train_batch_end(step, logs)\n",
      "File \u001b[0;32m~/.pyenv/versions/3.11.3/lib/python3.11/site-packages/tensorflow/python/util/traceback_utils.py:150\u001b[0m, in \u001b[0;36mfilter_traceback.<locals>.error_handler\u001b[0;34m(*args, **kwargs)\u001b[0m\n\u001b[1;32m    148\u001b[0m filtered_tb \u001b[38;5;241m=\u001b[39m \u001b[38;5;28;01mNone\u001b[39;00m\n\u001b[1;32m    149\u001b[0m \u001b[38;5;28;01mtry\u001b[39;00m:\n\u001b[0;32m--> 150\u001b[0m   \u001b[38;5;28;01mreturn\u001b[39;00m \u001b[43mfn\u001b[49m\u001b[43m(\u001b[49m\u001b[38;5;241;43m*\u001b[39;49m\u001b[43margs\u001b[49m\u001b[43m,\u001b[49m\u001b[43m \u001b[49m\u001b[38;5;241;43m*\u001b[39;49m\u001b[38;5;241;43m*\u001b[39;49m\u001b[43mkwargs\u001b[49m\u001b[43m)\u001b[49m\n\u001b[1;32m    151\u001b[0m \u001b[38;5;28;01mexcept\u001b[39;00m \u001b[38;5;167;01mException\u001b[39;00m \u001b[38;5;28;01mas\u001b[39;00m e:\n\u001b[1;32m    152\u001b[0m   filtered_tb \u001b[38;5;241m=\u001b[39m _process_traceback_frames(e\u001b[38;5;241m.\u001b[39m__traceback__)\n",
      "File \u001b[0;32m~/.pyenv/versions/3.11.3/lib/python3.11/site-packages/tensorflow/python/eager/polymorphic_function/polymorphic_function.py:833\u001b[0m, in \u001b[0;36mFunction.__call__\u001b[0;34m(self, *args, **kwds)\u001b[0m\n\u001b[1;32m    830\u001b[0m compiler \u001b[38;5;241m=\u001b[39m \u001b[38;5;124m\"\u001b[39m\u001b[38;5;124mxla\u001b[39m\u001b[38;5;124m\"\u001b[39m \u001b[38;5;28;01mif\u001b[39;00m \u001b[38;5;28mself\u001b[39m\u001b[38;5;241m.\u001b[39m_jit_compile \u001b[38;5;28;01melse\u001b[39;00m \u001b[38;5;124m\"\u001b[39m\u001b[38;5;124mnonXla\u001b[39m\u001b[38;5;124m\"\u001b[39m\n\u001b[1;32m    832\u001b[0m \u001b[38;5;28;01mwith\u001b[39;00m OptionalXlaContext(\u001b[38;5;28mself\u001b[39m\u001b[38;5;241m.\u001b[39m_jit_compile):\n\u001b[0;32m--> 833\u001b[0m   result \u001b[38;5;241m=\u001b[39m \u001b[38;5;28;43mself\u001b[39;49m\u001b[38;5;241;43m.\u001b[39;49m\u001b[43m_call\u001b[49m\u001b[43m(\u001b[49m\u001b[38;5;241;43m*\u001b[39;49m\u001b[43margs\u001b[49m\u001b[43m,\u001b[49m\u001b[43m \u001b[49m\u001b[38;5;241;43m*\u001b[39;49m\u001b[38;5;241;43m*\u001b[39;49m\u001b[43mkwds\u001b[49m\u001b[43m)\u001b[49m\n\u001b[1;32m    835\u001b[0m new_tracing_count \u001b[38;5;241m=\u001b[39m \u001b[38;5;28mself\u001b[39m\u001b[38;5;241m.\u001b[39mexperimental_get_tracing_count()\n\u001b[1;32m    836\u001b[0m without_tracing \u001b[38;5;241m=\u001b[39m (tracing_count \u001b[38;5;241m==\u001b[39m new_tracing_count)\n",
      "File \u001b[0;32m~/.pyenv/versions/3.11.3/lib/python3.11/site-packages/tensorflow/python/eager/polymorphic_function/polymorphic_function.py:878\u001b[0m, in \u001b[0;36mFunction._call\u001b[0;34m(self, *args, **kwds)\u001b[0m\n\u001b[1;32m    875\u001b[0m \u001b[38;5;28mself\u001b[39m\u001b[38;5;241m.\u001b[39m_lock\u001b[38;5;241m.\u001b[39mrelease()\n\u001b[1;32m    876\u001b[0m \u001b[38;5;66;03m# In this case we have not created variables on the first call. So we can\u001b[39;00m\n\u001b[1;32m    877\u001b[0m \u001b[38;5;66;03m# run the first trace but we should fail if variables are created.\u001b[39;00m\n\u001b[0;32m--> 878\u001b[0m results \u001b[38;5;241m=\u001b[39m \u001b[43mtracing_compilation\u001b[49m\u001b[38;5;241;43m.\u001b[39;49m\u001b[43mcall_function\u001b[49m\u001b[43m(\u001b[49m\n\u001b[1;32m    879\u001b[0m \u001b[43m    \u001b[49m\u001b[43margs\u001b[49m\u001b[43m,\u001b[49m\u001b[43m \u001b[49m\u001b[43mkwds\u001b[49m\u001b[43m,\u001b[49m\u001b[43m \u001b[49m\u001b[38;5;28;43mself\u001b[39;49m\u001b[38;5;241;43m.\u001b[39;49m\u001b[43m_variable_creation_config\u001b[49m\n\u001b[1;32m    880\u001b[0m \u001b[43m\u001b[49m\u001b[43m)\u001b[49m\n\u001b[1;32m    881\u001b[0m \u001b[38;5;28;01mif\u001b[39;00m \u001b[38;5;28mself\u001b[39m\u001b[38;5;241m.\u001b[39m_created_variables:\n\u001b[1;32m    882\u001b[0m   \u001b[38;5;28;01mraise\u001b[39;00m \u001b[38;5;167;01mValueError\u001b[39;00m(\u001b[38;5;124m\"\u001b[39m\u001b[38;5;124mCreating variables on a non-first call to a function\u001b[39m\u001b[38;5;124m\"\u001b[39m\n\u001b[1;32m    883\u001b[0m                    \u001b[38;5;124m\"\u001b[39m\u001b[38;5;124m decorated with tf.function.\u001b[39m\u001b[38;5;124m\"\u001b[39m)\n",
      "File \u001b[0;32m~/.pyenv/versions/3.11.3/lib/python3.11/site-packages/tensorflow/python/eager/polymorphic_function/tracing_compilation.py:139\u001b[0m, in \u001b[0;36mcall_function\u001b[0;34m(args, kwargs, tracing_options)\u001b[0m\n\u001b[1;32m    137\u001b[0m bound_args \u001b[38;5;241m=\u001b[39m function\u001b[38;5;241m.\u001b[39mfunction_type\u001b[38;5;241m.\u001b[39mbind(\u001b[38;5;241m*\u001b[39margs, \u001b[38;5;241m*\u001b[39m\u001b[38;5;241m*\u001b[39mkwargs)\n\u001b[1;32m    138\u001b[0m flat_inputs \u001b[38;5;241m=\u001b[39m function\u001b[38;5;241m.\u001b[39mfunction_type\u001b[38;5;241m.\u001b[39munpack_inputs(bound_args)\n\u001b[0;32m--> 139\u001b[0m \u001b[38;5;28;01mreturn\u001b[39;00m \u001b[43mfunction\u001b[49m\u001b[38;5;241;43m.\u001b[39;49m\u001b[43m_call_flat\u001b[49m\u001b[43m(\u001b[49m\u001b[43m  \u001b[49m\u001b[38;5;66;43;03m# pylint: disable=protected-access\u001b[39;49;00m\n\u001b[1;32m    140\u001b[0m \u001b[43m    \u001b[49m\u001b[43mflat_inputs\u001b[49m\u001b[43m,\u001b[49m\u001b[43m \u001b[49m\u001b[43mcaptured_inputs\u001b[49m\u001b[38;5;241;43m=\u001b[39;49m\u001b[43mfunction\u001b[49m\u001b[38;5;241;43m.\u001b[39;49m\u001b[43mcaptured_inputs\u001b[49m\n\u001b[1;32m    141\u001b[0m \u001b[43m\u001b[49m\u001b[43m)\u001b[49m\n",
      "File \u001b[0;32m~/.pyenv/versions/3.11.3/lib/python3.11/site-packages/tensorflow/python/eager/polymorphic_function/concrete_function.py:1322\u001b[0m, in \u001b[0;36mConcreteFunction._call_flat\u001b[0;34m(self, tensor_inputs, captured_inputs)\u001b[0m\n\u001b[1;32m   1318\u001b[0m possible_gradient_type \u001b[38;5;241m=\u001b[39m gradients_util\u001b[38;5;241m.\u001b[39mPossibleTapeGradientTypes(args)\n\u001b[1;32m   1319\u001b[0m \u001b[38;5;28;01mif\u001b[39;00m (possible_gradient_type \u001b[38;5;241m==\u001b[39m gradients_util\u001b[38;5;241m.\u001b[39mPOSSIBLE_GRADIENT_TYPES_NONE\n\u001b[1;32m   1320\u001b[0m     \u001b[38;5;129;01mand\u001b[39;00m executing_eagerly):\n\u001b[1;32m   1321\u001b[0m   \u001b[38;5;66;03m# No tape is watching; skip to running the function.\u001b[39;00m\n\u001b[0;32m-> 1322\u001b[0m   \u001b[38;5;28;01mreturn\u001b[39;00m \u001b[38;5;28;43mself\u001b[39;49m\u001b[38;5;241;43m.\u001b[39;49m\u001b[43m_inference_function\u001b[49m\u001b[38;5;241;43m.\u001b[39;49m\u001b[43mcall_preflattened\u001b[49m\u001b[43m(\u001b[49m\u001b[43margs\u001b[49m\u001b[43m)\u001b[49m\n\u001b[1;32m   1323\u001b[0m forward_backward \u001b[38;5;241m=\u001b[39m \u001b[38;5;28mself\u001b[39m\u001b[38;5;241m.\u001b[39m_select_forward_and_backward_functions(\n\u001b[1;32m   1324\u001b[0m     args,\n\u001b[1;32m   1325\u001b[0m     possible_gradient_type,\n\u001b[1;32m   1326\u001b[0m     executing_eagerly)\n\u001b[1;32m   1327\u001b[0m forward_function, args_with_tangents \u001b[38;5;241m=\u001b[39m forward_backward\u001b[38;5;241m.\u001b[39mforward()\n",
      "File \u001b[0;32m~/.pyenv/versions/3.11.3/lib/python3.11/site-packages/tensorflow/python/eager/polymorphic_function/atomic_function.py:216\u001b[0m, in \u001b[0;36mAtomicFunction.call_preflattened\u001b[0;34m(self, args)\u001b[0m\n\u001b[1;32m    214\u001b[0m \u001b[38;5;28;01mdef\u001b[39;00m \u001b[38;5;21mcall_preflattened\u001b[39m(\u001b[38;5;28mself\u001b[39m, args: Sequence[core\u001b[38;5;241m.\u001b[39mTensor]) \u001b[38;5;241m-\u001b[39m\u001b[38;5;241m>\u001b[39m Any:\n\u001b[1;32m    215\u001b[0m \u001b[38;5;250m  \u001b[39m\u001b[38;5;124;03m\"\"\"Calls with flattened tensor inputs and returns the structured output.\"\"\"\u001b[39;00m\n\u001b[0;32m--> 216\u001b[0m   flat_outputs \u001b[38;5;241m=\u001b[39m \u001b[38;5;28;43mself\u001b[39;49m\u001b[38;5;241;43m.\u001b[39;49m\u001b[43mcall_flat\u001b[49m\u001b[43m(\u001b[49m\u001b[38;5;241;43m*\u001b[39;49m\u001b[43margs\u001b[49m\u001b[43m)\u001b[49m\n\u001b[1;32m    217\u001b[0m   \u001b[38;5;28;01mreturn\u001b[39;00m \u001b[38;5;28mself\u001b[39m\u001b[38;5;241m.\u001b[39mfunction_type\u001b[38;5;241m.\u001b[39mpack_output(flat_outputs)\n",
      "File \u001b[0;32m~/.pyenv/versions/3.11.3/lib/python3.11/site-packages/tensorflow/python/eager/polymorphic_function/atomic_function.py:251\u001b[0m, in \u001b[0;36mAtomicFunction.call_flat\u001b[0;34m(self, *args)\u001b[0m\n\u001b[1;32m    249\u001b[0m \u001b[38;5;28;01mwith\u001b[39;00m record\u001b[38;5;241m.\u001b[39mstop_recording():\n\u001b[1;32m    250\u001b[0m   \u001b[38;5;28;01mif\u001b[39;00m \u001b[38;5;28mself\u001b[39m\u001b[38;5;241m.\u001b[39m_bound_context\u001b[38;5;241m.\u001b[39mexecuting_eagerly():\n\u001b[0;32m--> 251\u001b[0m     outputs \u001b[38;5;241m=\u001b[39m \u001b[38;5;28;43mself\u001b[39;49m\u001b[38;5;241;43m.\u001b[39;49m\u001b[43m_bound_context\u001b[49m\u001b[38;5;241;43m.\u001b[39;49m\u001b[43mcall_function\u001b[49m\u001b[43m(\u001b[49m\n\u001b[1;32m    252\u001b[0m \u001b[43m        \u001b[49m\u001b[38;5;28;43mself\u001b[39;49m\u001b[38;5;241;43m.\u001b[39;49m\u001b[43mname\u001b[49m\u001b[43m,\u001b[49m\n\u001b[1;32m    253\u001b[0m \u001b[43m        \u001b[49m\u001b[38;5;28;43mlist\u001b[39;49m\u001b[43m(\u001b[49m\u001b[43margs\u001b[49m\u001b[43m)\u001b[49m\u001b[43m,\u001b[49m\n\u001b[1;32m    254\u001b[0m \u001b[43m        \u001b[49m\u001b[38;5;28;43mlen\u001b[39;49m\u001b[43m(\u001b[49m\u001b[38;5;28;43mself\u001b[39;49m\u001b[38;5;241;43m.\u001b[39;49m\u001b[43mfunction_type\u001b[49m\u001b[38;5;241;43m.\u001b[39;49m\u001b[43mflat_outputs\u001b[49m\u001b[43m)\u001b[49m\u001b[43m,\u001b[49m\n\u001b[1;32m    255\u001b[0m \u001b[43m    \u001b[49m\u001b[43m)\u001b[49m\n\u001b[1;32m    256\u001b[0m   \u001b[38;5;28;01melse\u001b[39;00m:\n\u001b[1;32m    257\u001b[0m     outputs \u001b[38;5;241m=\u001b[39m make_call_op_in_graph(\n\u001b[1;32m    258\u001b[0m         \u001b[38;5;28mself\u001b[39m,\n\u001b[1;32m    259\u001b[0m         \u001b[38;5;28mlist\u001b[39m(args),\n\u001b[1;32m    260\u001b[0m         \u001b[38;5;28mself\u001b[39m\u001b[38;5;241m.\u001b[39m_bound_context\u001b[38;5;241m.\u001b[39mfunction_call_options\u001b[38;5;241m.\u001b[39mas_attrs(),\n\u001b[1;32m    261\u001b[0m     )\n",
      "File \u001b[0;32m~/.pyenv/versions/3.11.3/lib/python3.11/site-packages/tensorflow/python/eager/context.py:1500\u001b[0m, in \u001b[0;36mContext.call_function\u001b[0;34m(self, name, tensor_inputs, num_outputs)\u001b[0m\n\u001b[1;32m   1498\u001b[0m cancellation_context \u001b[38;5;241m=\u001b[39m cancellation\u001b[38;5;241m.\u001b[39mcontext()\n\u001b[1;32m   1499\u001b[0m \u001b[38;5;28;01mif\u001b[39;00m cancellation_context \u001b[38;5;129;01mis\u001b[39;00m \u001b[38;5;28;01mNone\u001b[39;00m:\n\u001b[0;32m-> 1500\u001b[0m   outputs \u001b[38;5;241m=\u001b[39m \u001b[43mexecute\u001b[49m\u001b[38;5;241;43m.\u001b[39;49m\u001b[43mexecute\u001b[49m\u001b[43m(\u001b[49m\n\u001b[1;32m   1501\u001b[0m \u001b[43m      \u001b[49m\u001b[43mname\u001b[49m\u001b[38;5;241;43m.\u001b[39;49m\u001b[43mdecode\u001b[49m\u001b[43m(\u001b[49m\u001b[38;5;124;43m\"\u001b[39;49m\u001b[38;5;124;43mutf-8\u001b[39;49m\u001b[38;5;124;43m\"\u001b[39;49m\u001b[43m)\u001b[49m\u001b[43m,\u001b[49m\n\u001b[1;32m   1502\u001b[0m \u001b[43m      \u001b[49m\u001b[43mnum_outputs\u001b[49m\u001b[38;5;241;43m=\u001b[39;49m\u001b[43mnum_outputs\u001b[49m\u001b[43m,\u001b[49m\n\u001b[1;32m   1503\u001b[0m \u001b[43m      \u001b[49m\u001b[43minputs\u001b[49m\u001b[38;5;241;43m=\u001b[39;49m\u001b[43mtensor_inputs\u001b[49m\u001b[43m,\u001b[49m\n\u001b[1;32m   1504\u001b[0m \u001b[43m      \u001b[49m\u001b[43mattrs\u001b[49m\u001b[38;5;241;43m=\u001b[39;49m\u001b[43mattrs\u001b[49m\u001b[43m,\u001b[49m\n\u001b[1;32m   1505\u001b[0m \u001b[43m      \u001b[49m\u001b[43mctx\u001b[49m\u001b[38;5;241;43m=\u001b[39;49m\u001b[38;5;28;43mself\u001b[39;49m\u001b[43m,\u001b[49m\n\u001b[1;32m   1506\u001b[0m \u001b[43m  \u001b[49m\u001b[43m)\u001b[49m\n\u001b[1;32m   1507\u001b[0m \u001b[38;5;28;01melse\u001b[39;00m:\n\u001b[1;32m   1508\u001b[0m   outputs \u001b[38;5;241m=\u001b[39m execute\u001b[38;5;241m.\u001b[39mexecute_with_cancellation(\n\u001b[1;32m   1509\u001b[0m       name\u001b[38;5;241m.\u001b[39mdecode(\u001b[38;5;124m\"\u001b[39m\u001b[38;5;124mutf-8\u001b[39m\u001b[38;5;124m\"\u001b[39m),\n\u001b[1;32m   1510\u001b[0m       num_outputs\u001b[38;5;241m=\u001b[39mnum_outputs,\n\u001b[0;32m   (...)\u001b[0m\n\u001b[1;32m   1514\u001b[0m       cancellation_manager\u001b[38;5;241m=\u001b[39mcancellation_context,\n\u001b[1;32m   1515\u001b[0m   )\n",
      "File \u001b[0;32m~/.pyenv/versions/3.11.3/lib/python3.11/site-packages/tensorflow/python/eager/execute.py:53\u001b[0m, in \u001b[0;36mquick_execute\u001b[0;34m(op_name, num_outputs, inputs, attrs, ctx, name)\u001b[0m\n\u001b[1;32m     51\u001b[0m \u001b[38;5;28;01mtry\u001b[39;00m:\n\u001b[1;32m     52\u001b[0m   ctx\u001b[38;5;241m.\u001b[39mensure_initialized()\n\u001b[0;32m---> 53\u001b[0m   tensors \u001b[38;5;241m=\u001b[39m \u001b[43mpywrap_tfe\u001b[49m\u001b[38;5;241;43m.\u001b[39;49m\u001b[43mTFE_Py_Execute\u001b[49m\u001b[43m(\u001b[49m\u001b[43mctx\u001b[49m\u001b[38;5;241;43m.\u001b[39;49m\u001b[43m_handle\u001b[49m\u001b[43m,\u001b[49m\u001b[43m \u001b[49m\u001b[43mdevice_name\u001b[49m\u001b[43m,\u001b[49m\u001b[43m \u001b[49m\u001b[43mop_name\u001b[49m\u001b[43m,\u001b[49m\n\u001b[1;32m     54\u001b[0m \u001b[43m                                      \u001b[49m\u001b[43minputs\u001b[49m\u001b[43m,\u001b[49m\u001b[43m \u001b[49m\u001b[43mattrs\u001b[49m\u001b[43m,\u001b[49m\u001b[43m \u001b[49m\u001b[43mnum_outputs\u001b[49m\u001b[43m)\u001b[49m\n\u001b[1;32m     55\u001b[0m \u001b[38;5;28;01mexcept\u001b[39;00m core\u001b[38;5;241m.\u001b[39m_NotOkStatusException \u001b[38;5;28;01mas\u001b[39;00m e:\n\u001b[1;32m     56\u001b[0m   \u001b[38;5;28;01mif\u001b[39;00m name \u001b[38;5;129;01mis\u001b[39;00m \u001b[38;5;129;01mnot\u001b[39;00m \u001b[38;5;28;01mNone\u001b[39;00m:\n",
      "\u001b[0;31mKeyboardInterrupt\u001b[0m: "
     ]
    }
   ],
   "source": [
    "test_params()"
   ]
  },
  {
   "cell_type": "code",
   "execution_count": null,
   "metadata": {},
   "outputs": [],
   "source": [
    "%load_ext tensorboard\n",
    "%tensorboard --logdir hparams"
   ]
  },
  {
   "cell_type": "markdown",
   "metadata": {},
   "source": [
    "## Test"
   ]
  },
  {
   "cell_type": "code",
   "execution_count": null,
   "metadata": {},
   "outputs": [],
   "source": [
    "test_x1 = np.vstack(test_x1s)\n",
    "test_x2 = np.vstack(test_x2s)\n",
    "test_x3 = np.vstack(test_x3s)\n",
    "test_x4 = np.vstack(test_x4s)\n",
    "test_y = np.vstack(test_ys)"
   ]
  },
  {
   "cell_type": "code",
   "execution_count": null,
   "metadata": {},
   "outputs": [],
   "source": [
    "test_loss, test_accuracy = model.evaluate([test_x1, test_x2, test_x3, test_x4], test_y)\n",
    "\n",
    "print(\"\\n\\nTest Loss {}, Test Accuracy {}\".format(test_loss, test_accuracy))"
   ]
  },
  {
   "cell_type": "code",
   "execution_count": null,
   "metadata": {},
   "outputs": [],
   "source": [
    "n = 1\n",
    "g = 0\n",
    "\n",
    "for i in range(n):\n",
    "    expect = test_y[i][0]\n",
    "    x1 = test_x1[i]\n",
    "    x2 = test_x2[i]\n",
    "    x3 = test_x3[i]\n",
    "    x4 = test_x4[i]\n",
    "    xs = [np.array([x1]), np.array([x2]), np.array([x3]), np.array([x4])]\n",
    "    print(\"xs\")\n",
    "    print(xs)\n",
    "\n",
    "    predict = model.predict(xs)\n",
    "    predict = predict[0][0]\n",
    "    if predict > 0.5:\n",
    "        predict = 1\n",
    "    else:\n",
    "        predict = 0\n",
    "\n",
    "    if predict == expect:\n",
    "        g += 1.0\n",
    "\n",
    "#     print(f'Expect {expect}, predict {predict}')\n",
    "\n",
    "\n",
    "print()\n",
    "print(\"accuracy:\")\n",
    "print(g / n)"
   ]
  },
  {
   "cell_type": "markdown",
   "metadata": {},
   "source": [
    "## Save Model\n"
   ]
  },
  {
   "cell_type": "code",
   "execution_count": null,
   "metadata": {},
   "outputs": [],
   "source": [
    "model.save(\"mlp_model\")"
   ]
  }
 ],
 "metadata": {
  "kernelspec": {
   "display_name": "Python 3",
   "language": "python",
   "name": "python3"
  },
  "language_info": {
   "codemirror_mode": {
    "name": "ipython",
    "version": 3
   },
   "file_extension": ".py",
   "mimetype": "text/x-python",
   "name": "python",
   "nbconvert_exporter": "python",
   "pygments_lexer": "ipython3",
   "version": "3.11.3"
  }
 },
 "nbformat": 4,
 "nbformat_minor": 2
}
